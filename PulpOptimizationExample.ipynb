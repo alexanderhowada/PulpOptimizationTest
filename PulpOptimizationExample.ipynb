{
 "cells": [
  {
   "cell_type": "markdown",
   "id": "a4289920",
   "metadata": {},
   "source": [
    "# A simple blending problem\n",
    "\n",
    "https://coin-or.github.io/pulp/CaseStudies/a_blending_problem.html"
   ]
  },
  {
   "cell_type": "code",
   "execution_count": 1,
   "id": "a1750c66",
   "metadata": {},
   "outputs": [],
   "source": [
    "import pandas as pd \n",
    "import pulp"
   ]
  },
  {
   "cell_type": "code",
   "execution_count": 2,
   "id": "ccf5b3e9",
   "metadata": {},
   "outputs": [
    {
     "data": {
      "text/html": [
       "<div>\n",
       "<style scoped>\n",
       "    .dataframe tbody tr th:only-of-type {\n",
       "        vertical-align: middle;\n",
       "    }\n",
       "\n",
       "    .dataframe tbody tr th {\n",
       "        vertical-align: top;\n",
       "    }\n",
       "\n",
       "    .dataframe thead th {\n",
       "        text-align: right;\n",
       "    }\n",
       "</style>\n",
       "<table border=\"1\" class=\"dataframe\">\n",
       "  <thead>\n",
       "    <tr style=\"text-align: right;\">\n",
       "      <th></th>\n",
       "      <th>Protein</th>\n",
       "      <th>Fat</th>\n",
       "      <th>Fibre</th>\n",
       "      <th>Salt</th>\n",
       "      <th>Cost</th>\n",
       "    </tr>\n",
       "    <tr>\n",
       "      <th>Stuff</th>\n",
       "      <th></th>\n",
       "      <th></th>\n",
       "      <th></th>\n",
       "      <th></th>\n",
       "      <th></th>\n",
       "    </tr>\n",
       "  </thead>\n",
       "  <tbody>\n",
       "    <tr>\n",
       "      <th>Chicken</th>\n",
       "      <td>0.10</td>\n",
       "      <td>0.08</td>\n",
       "      <td>0.001</td>\n",
       "      <td>0.002</td>\n",
       "      <td>0.013</td>\n",
       "    </tr>\n",
       "    <tr>\n",
       "      <th>Beef</th>\n",
       "      <td>0.20</td>\n",
       "      <td>0.10</td>\n",
       "      <td>0.005</td>\n",
       "      <td>0.005</td>\n",
       "      <td>0.008</td>\n",
       "    </tr>\n",
       "    <tr>\n",
       "      <th>Mutton</th>\n",
       "      <td>0.15</td>\n",
       "      <td>0.11</td>\n",
       "      <td>0.003</td>\n",
       "      <td>0.007</td>\n",
       "      <td>0.010</td>\n",
       "    </tr>\n",
       "    <tr>\n",
       "      <th>Rice</th>\n",
       "      <td>0.00</td>\n",
       "      <td>0.01</td>\n",
       "      <td>0.100</td>\n",
       "      <td>0.002</td>\n",
       "      <td>0.002</td>\n",
       "    </tr>\n",
       "    <tr>\n",
       "      <th>Wheat</th>\n",
       "      <td>0.04</td>\n",
       "      <td>0.01</td>\n",
       "      <td>0.150</td>\n",
       "      <td>0.008</td>\n",
       "      <td>0.005</td>\n",
       "    </tr>\n",
       "    <tr>\n",
       "      <th>Gel</th>\n",
       "      <td>0.00</td>\n",
       "      <td>0.00</td>\n",
       "      <td>0.000</td>\n",
       "      <td>0.000</td>\n",
       "      <td>0.001</td>\n",
       "    </tr>\n",
       "  </tbody>\n",
       "</table>\n",
       "</div>"
      ],
      "text/plain": [
       "         Protein   Fat  Fibre   Salt   Cost\n",
       "Stuff                                      \n",
       "Chicken     0.10  0.08  0.001  0.002  0.013\n",
       "Beef        0.20  0.10  0.005  0.005  0.008\n",
       "Mutton      0.15  0.11  0.003  0.007  0.010\n",
       "Rice        0.00  0.01  0.100  0.002  0.002\n",
       "Wheat       0.04  0.01  0.150  0.008  0.005\n",
       "Gel         0.00  0.00  0.000  0.000  0.001"
      ]
     },
     "execution_count": 2,
     "metadata": {},
     "output_type": "execute_result"
    }
   ],
   "source": [
    "product = pd.read_csv('product_content.csv').set_index('Stuff')\n",
    "product"
   ]
  },
  {
   "cell_type": "code",
   "execution_count": 3,
   "id": "e6bf0da9",
   "metadata": {},
   "outputs": [],
   "source": [
    "\"\"\"Creating problem obj\"\"\"\n",
    "Prob = pulp.LpProblem(\"FoodProblem\", pulp.LpMinimize)"
   ]
  },
  {
   "cell_type": "code",
   "execution_count": 4,
   "id": "f7b0a072",
   "metadata": {},
   "outputs": [
    {
     "data": {
      "text/plain": [
       "{'Chicken': Chicken,\n",
       " 'Beef': Beef,\n",
       " 'Mutton': Mutton,\n",
       " 'Rice': Rice,\n",
       " 'Wheat': Wheat,\n",
       " 'Gel': Gel}"
      ]
     },
     "execution_count": 4,
     "metadata": {},
     "output_type": "execute_result"
    }
   ],
   "source": [
    "\"\"\"Defining variables\"\"\"\n",
    "\n",
    "variables = {\n",
    "    name:pulp.LpVariable(\n",
    "        name, lowBound=0, upBound=100, cat='Continuous'\n",
    "    ) for name in product.index\n",
    "}\n",
    "variables"
   ]
  },
  {
   "cell_type": "code",
   "execution_count": 5,
   "id": "bc0fea68",
   "metadata": {},
   "outputs": [],
   "source": [
    "\"\"\"The objective is to minimize cost\"\"\"\n",
    "Prob += pulp.lpSum(\n",
    "    [product.loc[name, 'Cost']*v for name,v in variables.items()]\n",
    "), \"Objective\""
   ]
  },
  {
   "cell_type": "code",
   "execution_count": 6,
   "id": "632ec5c1",
   "metadata": {},
   "outputs": [],
   "source": [
    "\"\"\"Add constraints\n",
    "sum(x_i) == 100\n",
    "sum(protein*x_i) >= 8\n",
    "\"\"\"\n",
    "\n",
    "Prob += pulp.lpSum([v for v in variables.values()]) == 100, 'Percentage'\n",
    "Prob += pulp.lpSum([product.loc[n, 'Protein']*v for n,v in variables.items()]) >= 8, 'Protein'\n",
    "Prob += pulp.lpSum([product.loc[n, 'Fat']*v for n,v in variables.items()]) >= 6, 'Fat'\n",
    "Prob += pulp.lpSum([product.loc[n, 'Fibre']*v for n,v in variables.items()]) <= 2, 'Fibre'\n",
    "Prob += pulp.lpSum([product.loc[n, 'Salt']*v for n,v in variables.items()]) <= 0.4, 'Salt'"
   ]
  },
  {
   "cell_type": "code",
   "execution_count": 7,
   "id": "4796fa27",
   "metadata": {},
   "outputs": [
    {
     "data": {
      "text/plain": [
       "OrderedDict([('Percentage',\n",
       "              1*Beef + 1*Chicken + 1*Gel + 1*Mutton + 1*Rice + 1*Wheat + -100 = 0),\n",
       "             ('Protein',\n",
       "              0.2*Beef + 0.1*Chicken + 0.15*Mutton + 0.04*Wheat + -8.0 >= 0),\n",
       "             ('Fat',\n",
       "              0.1*Beef + 0.08*Chicken + 0.11*Mutton + 0.01*Rice + 0.01*Wheat + -6.0 >= 0),\n",
       "             ('Fibre',\n",
       "              0.005*Beef + 0.001*Chicken + 0.003*Mutton + 0.1*Rice + 0.15*Wheat + -2.0 <= 0),\n",
       "             ('Salt',\n",
       "              0.005*Beef + 0.002*Chicken + 0.007*Mutton + 0.002*Rice + 0.008*Wheat + -0.4 <= 0)])"
      ]
     },
     "execution_count": 7,
     "metadata": {},
     "output_type": "execute_result"
    }
   ],
   "source": [
    "Prob.constraints"
   ]
  },
  {
   "cell_type": "code",
   "execution_count": 8,
   "id": "e71b0bb4",
   "metadata": {},
   "outputs": [
    {
     "data": {
      "text/plain": [
       "['GLPK_CMD',\n",
       " 'PYGLPK',\n",
       " 'CPLEX_CMD',\n",
       " 'CPLEX_PY',\n",
       " 'GUROBI',\n",
       " 'GUROBI_CMD',\n",
       " 'MOSEK',\n",
       " 'XPRESS',\n",
       " 'PULP_CBC_CMD',\n",
       " 'COIN_CMD',\n",
       " 'COINMP_DLL',\n",
       " 'CHOCO_CMD',\n",
       " 'MIPCL_CMD',\n",
       " 'SCIP_CMD']"
      ]
     },
     "execution_count": 8,
     "metadata": {},
     "output_type": "execute_result"
    }
   ],
   "source": [
    "pulp.listSolvers()"
   ]
  },
  {
   "cell_type": "code",
   "execution_count": 28,
   "id": "ef8aaa7d",
   "metadata": {},
   "outputs": [
    {
     "name": "stdout",
     "output_type": "stream",
     "text": [
      "Opt Result \n",
      "\n",
      "Beef=60.0\n",
      "Chicken=0.0\n",
      "Gel=40.0\n",
      "Mutton=0.0\n",
      "Rice=0.0\n",
      "Wheat=0.0\n",
      "\n",
      "\n",
      " Constraints \n",
      "\n",
      "Beef + Chicken + Gel + Mutton + Rice + Wheat = 100\n",
      "Percentage = 100.0\n",
      "\n",
      "0.2*Beef + 0.1*Chicken + 0.15*Mutton + 0.04*Wheat >= 8.0\n",
      "Protein = 12.0\n",
      "\n",
      "0.1*Beef + 0.08*Chicken + 0.11*Mutton + 0.01*Rice + 0.01*Wheat >= 6.0\n",
      "Fat = 6.0\n",
      "\n",
      "0.005*Beef + 0.001*Chicken + 0.003*Mutton + 0.1*Rice + 0.15*Wheat <= 2.0\n",
      "Fibre = 0.30000000000000004\n",
      "\n",
      "0.005*Beef + 0.002*Chicken + 0.007*Mutton + 0.002*Rice + 0.008*Wheat <= 0.4\n",
      "Salt = 0.3\n",
      "\n"
     ]
    }
   ],
   "source": [
    "solver = pulp.PULP_CBC_CMD(msg=False, threads=4)\n",
    "Prob.solve(solver)\n",
    "\n",
    "\"\"\"Final Result\"\"\"\n",
    "print(\"Opt Result \\n\")\n",
    "for v in Prob.variables():\n",
    "    print(f\"{v.getName()}={v.value()}\")\n",
    "    \n",
    "\"\"\"Constraints values\"\"\"\n",
    "print(\"\\n\\n Constraints \\n\")\n",
    "for name, c in Prob.constraints.items():\n",
    "    value = c.value()-c.constant\n",
    "    print(c)\n",
    "    print(f\"{name} = {value}\\n\")\n",
    "    "
   ]
  }
 ],
 "metadata": {
  "kernelspec": {
   "display_name": "venv",
   "language": "python",
   "name": "venv"
  },
  "language_info": {
   "codemirror_mode": {
    "name": "ipython",
    "version": 3
   },
   "file_extension": ".py",
   "mimetype": "text/x-python",
   "name": "python",
   "nbconvert_exporter": "python",
   "pygments_lexer": "ipython3",
   "version": "3.8.10"
  }
 },
 "nbformat": 4,
 "nbformat_minor": 5
}
